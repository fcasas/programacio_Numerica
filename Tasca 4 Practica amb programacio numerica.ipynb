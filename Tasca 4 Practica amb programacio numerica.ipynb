{
 "cells": [
  {
   "cell_type": "markdown",
   "metadata": {},
   "source": [
    "# **Sprint 3** - Tasca 4: Pràctica amb programació numèrica"
   ]
  },
  {
   "cell_type": "markdown",
   "metadata": {},
   "source": [
    "## Exercici 1"
   ]
  },
  {
   "cell_type": "code",
   "execution_count": 17,
   "metadata": {},
   "outputs": [
    {
     "data": {
      "text/html": [
       "<div>\n",
       "<style scoped>\n",
       "    .dataframe tbody tr th:only-of-type {\n",
       "        vertical-align: middle;\n",
       "    }\n",
       "\n",
       "    .dataframe tbody tr th {\n",
       "        vertical-align: top;\n",
       "    }\n",
       "\n",
       "    .dataframe thead th {\n",
       "        text-align: right;\n",
       "    }\n",
       "</style>\n",
       "<table border=\"1\" class=\"dataframe\">\n",
       "  <thead>\n",
       "    <tr style=\"text-align: right;\">\n",
       "      <th></th>\n",
       "      <th>0</th>\n",
       "    </tr>\n",
       "  </thead>\n",
       "  <tbody>\n",
       "    <tr>\n",
       "      <th>count</th>\n",
       "      <td>50.00000</td>\n",
       "    </tr>\n",
       "    <tr>\n",
       "      <th>mean</th>\n",
       "      <td>58.02000</td>\n",
       "    </tr>\n",
       "    <tr>\n",
       "      <th>std</th>\n",
       "      <td>25.91705</td>\n",
       "    </tr>\n",
       "    <tr>\n",
       "      <th>min</th>\n",
       "      <td>6.00000</td>\n",
       "    </tr>\n",
       "    <tr>\n",
       "      <th>25%</th>\n",
       "      <td>33.50000</td>\n",
       "    </tr>\n",
       "    <tr>\n",
       "      <th>50%</th>\n",
       "      <td>63.50000</td>\n",
       "    </tr>\n",
       "    <tr>\n",
       "      <th>75%</th>\n",
       "      <td>80.75000</td>\n",
       "    </tr>\n",
       "    <tr>\n",
       "      <th>max</th>\n",
       "      <td>99.00000</td>\n",
       "    </tr>\n",
       "  </tbody>\n",
       "</table>\n",
       "</div>"
      ],
      "text/plain": [
       "              0\n",
       "count  50.00000\n",
       "mean   58.02000\n",
       "std    25.91705\n",
       "min     6.00000\n",
       "25%    33.50000\n",
       "50%    63.50000\n",
       "75%    80.75000\n",
       "max    99.00000"
      ]
     },
     "execution_count": 17,
     "metadata": {},
     "output_type": "execute_result"
    }
   ],
   "source": [
    "import numpy as np\n",
    "import pandas as pd\n",
    "\n",
    "def resumEstadistic(dades):   \n",
    "    #comprovem que es tracti d'un array d'una dimensió\n",
    "    if dades.ndim == 1:\n",
    "        # fem servir el mètode describe de Pandas per obtenir el resum estadístic\n",
    "        return pd.DataFrame(dades).describe()\n",
    "    else: return \"S'espera un array d'una dimensió\"\n",
    "    \n",
    "# fem la prova amb un array d una dimensió\n",
    "resumEstadistic(np.random.randint(100, size=(50)))\n"
   ]
  },
  {
   "cell_type": "markdown",
   "metadata": {},
   "source": [
    "## Exercici 2"
   ]
  },
  {
   "cell_type": "code",
   "execution_count": 21,
   "metadata": {},
   "outputs": [
    {
     "data": {
      "text/plain": [
       "array([[ 3, 31, 75, 92],\n",
       "       [92, 29, 10, 92],\n",
       "       [89,  9, 13,  1],\n",
       "       [56, 60,  7, 78]])"
      ]
     },
     "execution_count": 21,
     "metadata": {},
     "output_type": "execute_result"
    }
   ],
   "source": [
    "import numpy as np\n",
    "\n",
    "def creaQuadrat(n):\n",
    "    return np.random.randint(100, size=(n,n))\n",
    "    \n",
    "creaQuadrat(4)"
   ]
  },
  {
   "cell_type": "markdown",
   "metadata": {},
   "source": [
    "## Exercici 3"
   ]
  },
  {
   "cell_type": "code",
   "execution_count": 36,
   "metadata": {},
   "outputs": [
    {
     "name": "stdout",
     "output_type": "stream",
     "text": [
      "La taula origina és: [[26 71 97  1]\n",
      " [ 2  1 67 98]]\n",
      "Els totals per fila son: [195 168] i els totals per columna: [ 28  72 164  99]\n"
     ]
    }
   ],
   "source": [
    "import numpy as np\n",
    "\n",
    "def totals(taula):\n",
    "    return np.sum([taula[0], taula[1]], axis=1), np.sum([taula[0], taula[1]], axis=0)\n",
    "    \n",
    "    \n",
    "# fem la prova amb un array de dues dimensions random\n",
    "taula1 = np.random.randint(100, size=(2,4))\n",
    "resultat = totals(taula1)\n",
    "\n",
    "print(\"La taula origina és: {}\".format(taula1))\n",
    "print(\"Els totals per fila son: {} i els totals per columna: {}\".format(resultat[0], resultat[1]))"
   ]
  },
  {
   "cell_type": "markdown",
   "metadata": {},
   "source": [
    "## Exercici 4"
   ]
  },
  {
   "cell_type": "code",
   "execution_count": 66,
   "metadata": {},
   "outputs": [
    {
     "name": "stdout",
     "output_type": "stream",
     "text": [
      "0.758640289091187\n",
      "[[1.         0.75864029]\n",
      " [0.75864029 1.        ]]\n"
     ]
    }
   ],
   "source": [
    "import numpy as np\n",
    "\n",
    "\n",
    "def coeficientCorrelacio(x,y):\n",
    "    \n",
    "    xx= x-np.mean(x)\n",
    "    yy= y-np.mean(y)\n",
    "    xy= xx*yy\n",
    "    \n",
    "    xx2 = np.power(xx, 2)\n",
    "    yy2 = np.power(yy, 2)\n",
    "    \n",
    "    return xy.sum()/(np.sqrt(xx2.sum())*np.sqrt(yy2.sum()))\n",
    "    \n",
    "\n",
    "# creem dos arrays per provar la funció\n",
    "\n",
    "arr1 = np.arange(10, 20)\n",
    "arr2 = np.array([2, 1, 4, 5, 8, 12, 18, 25, 96, 48])\n",
    "\n",
    "# provem la funció creada\n",
    "\n",
    "print(coeficientCorrelacio(arr1,arr2))\n",
    "\n",
    "# comprovem el resultat amb la funció propia de Pandas\n",
    "\n",
    "print(np.corrcoef(arr1,arr2))\n"
   ]
  }
 ],
 "metadata": {
  "kernelspec": {
   "display_name": "Python 3",
   "language": "python",
   "name": "python3"
  },
  "language_info": {
   "codemirror_mode": {
    "name": "ipython",
    "version": 3
   },
   "file_extension": ".py",
   "mimetype": "text/x-python",
   "name": "python",
   "nbconvert_exporter": "python",
   "pygments_lexer": "ipython3",
   "version": "3.8.5"
  }
 },
 "nbformat": 4,
 "nbformat_minor": 2
}
